{
 "cells": [
  {
   "cell_type": "code",
   "execution_count": 2,
   "id": "c4d5b869",
   "metadata": {},
   "outputs": [],
   "source": [
    "import numpy as np\n",
    "import matplotlib.pyplot as plt\n",
    "from utils import *\n",
    "import copy\n",
    "import math\n",
    "\n",
    "%matplotlib inline"
   ]
  },
  {
   "cell_type": "code",
   "execution_count": 3,
   "id": "ae3cf236",
   "metadata": {},
   "outputs": [],
   "source": [
    "X_train =  np.array([[34.62365962, 78.02469282],\n",
    "             [32.28671077 ,43.89499752],\n",
    "             [35.84740877, 70.90219803],\n",
    "             [61.18259939, 86.3085521 ],\n",
    "             [79.03273605, 75.34437644],\n",
    "             [74.62365962, 58.02469282],\n",
    "             [30.28671077, 43.89499752],\n",
    "             [35.84740877, 72.90219803],\n",
    "             [70.18259939, 88.3085521 ],\n",
    "             [79.03273605, 95.34437644]])\n",
    "\n",
    "y_train =  np.array([0., 0., 0., 1., 1., 0., 0., 0., 1., 1.])\n"
   ]
  },
  {
   "cell_type": "code",
   "execution_count": 4,
   "id": "5cf63a2e",
   "metadata": {},
   "outputs": [
    {
     "name": "stdout",
     "output_type": "stream",
     "text": [
      "First five elements in X_train are:\n",
      " [[34.62365962 78.02469282]\n",
      " [32.28671077 43.89499752]\n",
      " [35.84740877 70.90219803]\n",
      " [61.18259939 86.3085521 ]\n",
      " [79.03273605 75.34437644]]\n",
      "Type of X_train: <class 'numpy.ndarray'>\n"
     ]
    }
   ],
   "source": [
    "print(\"First five elements in X_train are:\\n\", X_train[:5])\n",
    "print(\"Type of X_train:\",type(X_train))"
   ]
  },
  {
   "cell_type": "code",
   "execution_count": 5,
   "id": "09c4ae8c",
   "metadata": {},
   "outputs": [
    {
     "name": "stdout",
     "output_type": "stream",
     "text": [
      "First five elements in y_train are:\n",
      " [0. 0. 0. 1. 1.]\n",
      "Type of y_train: <class 'numpy.ndarray'>\n"
     ]
    }
   ],
   "source": [
    "print(\"First five elements in y_train are:\\n\", y_train[:5])\n",
    "print(\"Type of y_train:\",type(y_train))"
   ]
  },
  {
   "cell_type": "code",
   "execution_count": 6,
   "id": "58038c45",
   "metadata": {},
   "outputs": [
    {
     "name": "stdout",
     "output_type": "stream",
     "text": [
      "The shape of X_train is: (10, 2)\n",
      "The shape of y_train is: (10,)\n",
      "We have m = 10 training examples\n"
     ]
    }
   ],
   "source": [
    "print ('The shape of X_train is: ' + str(X_train.shape))\n",
    "print ('The shape of y_train is: ' + str(y_train.shape))\n",
    "print ('We have m = %d training examples' % (len(y_train)))"
   ]
  },
  {
   "cell_type": "code",
   "execution_count": 7,
   "id": "98c31a9b",
   "metadata": {},
   "outputs": [
    {
     "data": {
      "image/png": "[encoded data removed]",
      "text/plain": [
       "<Figure size 640x480 with 1 Axes>"
      ]
     },
     "metadata": {},
     "output_type": "display_data"
    }
   ],
   "source": [
    "pos = y_train == 1\n",
    "neg = y_train == 0\n",
    "\n",
    "# Plot examples\n",
    "plt.scatter(X_train[pos, 0], X_train[pos, 1], label=\"Admitted\")\n",
    "plt.scatter(X_train[neg, 0], X_train[neg, 1], label=\"Not admitted\")\n",
    "\n",
    "# Set the y-axis label\n",
    "plt.ylabel('Exam 2 score')\n",
    "# Set the x-axis label\n",
    "plt.xlabel('Exam 1 score')\n",
    "plt.legend(loc=\"upper right\")\n",
    "plt.show()"
   ]
  },
  {
   "cell_type": "code",
   "execution_count": 8,
   "id": "decb9769",
   "metadata": {},
   "outputs": [],
   "source": [
    "# UNQ_C1\n",
    "# GRADED FUNCTION: sigmoid\n",
    "def sigmoid(z):\n",
    "    \"\"\"\n",
    "    Compute the sigmoid of z\n",
    "\n",
    "    Args:\n",
    "        z (ndarray): A scalar, numpy array of any size.\n",
    "\n",
    "    Returns:\n",
    "        g (ndarray): sigmoid(z), with the same shape as z\n",
    "         \n",
    "    \"\"\"\n",
    "\n",
    "    g = 1/(1+np.exp(-z))\n",
    "    \n",
    "    \n",
    "    return g"
   ]
  },
  {
   "cell_type": "code",
   "execution_count": 9,
   "id": "795bbd58",
   "metadata": {},
   "outputs": [
    {
     "name": "stdout",
     "output_type": "stream",
     "text": [
      "sigmoid(0) = 0.5\n"
     ]
    }
   ],
   "source": [
    "# Note: You can edit this value\n",
    "value = 0\n",
    "\n",
    "print (f\"sigmoid({value}) = {sigmoid(value)}\")"
   ]
  },
  {
   "cell_type": "code",
   "execution_count": 10,
   "id": "5259f877",
   "metadata": {},
   "outputs": [],
   "source": [
    "# UNQ_C2\n",
    "# GRADED FUNCTION: compute_cost\n",
    "import math\n",
    "\n",
    "def compute_cost(X, y, w, b, *argv):\n",
    "    \"\"\"\n",
    "    Computes the cost over all examples\n",
    "    Args:\n",
    "      X : (ndarray Shape (m,n)) data, m examples by n features\n",
    "      y : (ndarray Shape (m,))  target value \n",
    "      w : (ndarray Shape (n,))  values of parameters of the model      \n",
    "      b : (scalar)              value of bias parameter of the model\n",
    "      *argv : unused, for compatibility with regularized version below\n",
    "    Returns:\n",
    "      total_cost : (scalar) cost \n",
    "    \"\"\"\n",
    "\n",
    "    m, n = X.shape\n",
    "    \n",
    "    ### START CODE HERE ###\n",
    "    total_cost = 0\n",
    "    \n",
    "    for i in range(m):\n",
    "        x = X[i]\n",
    "        fwb_xi = sigmoid(np.dot(w, x) + b)\n",
    "        \n",
    "        # Clip the output of the sigmoid function to prevent log domain errors\n",
    "        fwb_xi = np.clip(fwb_xi, 1e-10, 1 - 1e-10)\n",
    "        \n",
    "        total_cost += -y[i] * math.log(fwb_xi) - (1 - y[i]) * math.log(1 - fwb_xi)\n",
    "\n",
    "    total_cost = (1 / m) * total_cost\n",
    "    return total_cost"
   ]
  },
  {
   "cell_type": "code",
   "execution_count": 11,
   "id": "d04b8630",
   "metadata": {},
   "outputs": [
    {
     "name": "stdout",
     "output_type": "stream",
     "text": [
      "Cost at initial w and b (zeros): 0.693\n"
     ]
    }
   ],
   "source": [
    "m, n = X_train.shape\n",
    "\n",
    "# Compute and display cost with w and b initialized to zeros\n",
    "initial_w = np.zeros(n)\n",
    "initial_b = 0.\n",
    "cost = compute_cost(X_train, y_train, initial_w, initial_b)\n",
    "print('Cost at initial w and b (zeros): {:.3f}'.format(cost))"
   ]
  },
  {
   "cell_type": "code",
   "execution_count": 12,
   "id": "fd571ba0",
   "metadata": {},
   "outputs": [],
   "source": [
    "# UNQ_C3\n",
    "# GRADED FUNCTION: compute_gradient\n",
    "def compute_gradient(X, y, w, b, *argv): \n",
    "    \"\"\"\n",
    "    Computes the gradient for logistic regression \n",
    " \n",
    "    Args:\n",
    "      X : (ndarray Shape (m,n)) data, m examples by n features\n",
    "      y : (ndarray Shape (m,))  target value \n",
    "      w : (ndarray Shape (n,))  values of parameters of the model      \n",
    "      b : (scalar)              value of bias parameter of the model\n",
    "      *argv : unused, for compatibility with regularized version below\n",
    "    Returns\n",
    "      dj_dw : (ndarray Shape (n,)) The gradient of the cost w.r.t. the parameters w. \n",
    "      dj_db : (scalar)             The gradient of the cost w.r.t. the parameter b. \n",
    "    \"\"\"\n",
    "    m, n = X.shape\n",
    "    dj_dw = np.zeros(w.shape)\n",
    "    dj_db = 0.\n",
    "\n",
    "    ### START CODE HERE ### \n",
    "    for i in range(m):\n",
    "        x = X[i]\n",
    "        for j in range(n):\n",
    "            dj_dw[j] += (sigmoid(np.dot(w,x)+b)-y[i])*X[i,j]\n",
    "        dj_db += (sigmoid(np.dot(w,x)+b)-y[i])\n",
    "    \n",
    "    dj_db = dj_db * (1/m)\n",
    "    dj_dw = dj_dw * (1/m)\n",
    "\n",
    "    \n",
    "    ### END CODE HERE ###\n",
    "\n",
    "        \n",
    "    return dj_db, dj_dw"
   ]
  },
  {
   "cell_type": "code",
   "execution_count": 13,
   "id": "dfb51645",
   "metadata": {},
   "outputs": [
    {
     "name": "stdout",
     "output_type": "stream",
     "text": [
      "dj_db at initial w and b (zeros):0.1\n",
      "dj_dw at initial w and b (zeros):[-2.2957556279999998, 1.1168959829999978]\n"
     ]
    }
   ],
   "source": [
    "# Compute and display gradient with w and b initialized to zeros\n",
    "initial_w = np.zeros(n)\n",
    "initial_b = 0.\n",
    "\n",
    "dj_db, dj_dw = compute_gradient(X_train, y_train, initial_w, initial_b)\n",
    "print(f'dj_db at initial w and b (zeros):{dj_db}' )\n",
    "print(f'dj_dw at initial w and b (zeros):{dj_dw.tolist()}' )"
   ]
  },
  {
   "cell_type": "code",
   "execution_count": 14,
   "id": "a0883c71",
   "metadata": {},
   "outputs": [],
   "source": [
    "def gradient_descent(X, y, w_in, b_in, cost_function, gradient_function, alpha, num_iters, lambda_): \n",
    "    \"\"\"\n",
    "    Performs batch gradient descent to learn theta. Updates theta by taking \n",
    "    num_iters gradient steps with learning rate alpha\n",
    "    \n",
    "    Args:\n",
    "      X :    (ndarray Shape (m, n) data, m examples by n features\n",
    "      y :    (ndarray Shape (m,))  target value \n",
    "      w_in : (ndarray Shape (n,))  Initial values of parameters of the model\n",
    "      b_in : (scalar)              Initial value of parameter of the model\n",
    "      cost_function :              function to compute cost\n",
    "      gradient_function :          function to compute gradient\n",
    "      alpha : (float)              Learning rate\n",
    "      num_iters : (int)            number of iterations to run gradient descent\n",
    "      lambda_ : (scalar, float)    regularization constant\n",
    "      \n",
    "    Returns:\n",
    "      w : (ndarray Shape (n,)) Updated values of parameters of the model after\n",
    "          running gradient descent\n",
    "      b : (scalar)                Updated value of parameter of the model after\n",
    "          running gradient descent\n",
    "    \"\"\"\n",
    "    \n",
    "    # number of training examples\n",
    "    m = len(X)\n",
    "    \n",
    "    # An array to store cost J and w's at each iteration primarily for graphing later\n",
    "    J_history = []\n",
    "    w_history = []\n",
    "    \n",
    "    for i in range(num_iters):\n",
    "\n",
    "        # Calculate the gradient and update the parameters\n",
    "        dj_db, dj_dw = gradient_function(X, y, w_in, b_in, lambda_)   \n",
    "\n",
    "        # Update Parameters using w, b, alpha and gradient\n",
    "        w_in = w_in - alpha * dj_dw               \n",
    "        b_in = b_in - alpha * dj_db              \n",
    "       \n",
    "        # Save cost J at each iteration\n",
    "        if i<100000:      # prevent resource exhaustion \n",
    "            cost =  cost_function(X, y, w_in, b_in, lambda_)\n",
    "            J_history.append(cost)\n",
    "\n",
    "        # Print cost every at intervals 10 times or as many iterations if < 10\n",
    "        if i% math.ceil(num_iters/10) == 0 or i == (num_iters-1):\n",
    "            w_history.append(w_in)\n",
    "            print(f\"Iteration {i:4}: Cost {float(J_history[-1]):8.2f}   \")\n",
    "        \n",
    "    return w_in, b_in, J_history, w_history #return w and J,w history for graphing"
   ]
  },
  {
   "cell_type": "code",
   "execution_count": 15,
   "id": "18db0e84",
   "metadata": {},
   "outputs": [
    {
     "name": "stdout",
     "output_type": "stream",
     "text": [
      "Iteration    0: Cost     1.15   \n",
      "Iteration 1000: Cost     0.23   \n",
      "Iteration 2000: Cost     0.22   \n",
      "Iteration 3000: Cost     0.22   \n",
      "Iteration 4000: Cost     0.22   \n",
      "Iteration 5000: Cost     0.22   \n",
      "Iteration 6000: Cost     0.22   \n",
      "Iteration 7000: Cost     0.22   \n",
      "Iteration 8000: Cost     0.22   \n",
      "Iteration 9000: Cost     0.22   \n",
      "Iteration 9999: Cost     0.22   \n"
     ]
    }
   ],
   "source": [
    "np.random.seed(1)\n",
    "initial_w = 0.01 * (np.random.rand(2) - 0.5)\n",
    "initial_b = -8\n",
    "\n",
    "# Some gradient descent settings\n",
    "iterations = 10000\n",
    "alpha = 0.001\n",
    "\n",
    "w,b, J_history,_ = gradient_descent(X_train ,y_train, initial_w, initial_b, \n",
    "                                   compute_cost, compute_gradient, alpha, iterations, 0)"
   ]
  },
  {
   "cell_type": "code",
   "execution_count": 16,
   "id": "80d2e647",
   "metadata": {},
   "outputs": [
    {
     "data": {
      "image/png": "[encoded data removed]",
      "text/plain": [
       "<Figure size 640x480 with 1 Axes>"
      ]
     },
     "metadata": {},
     "output_type": "display_data"
    }
   ],
   "source": [
    "def plot_decision_boundary(w, b, X, y):\n",
    "    # Separate positive (admitted) and negative (not admitted) examples\n",
    "    pos = y == 1\n",
    "    neg = y == 0\n",
    "\n",
    "    # Plot examples\n",
    "    plt.scatter(X[pos, 0], X[pos, 1], label=\"Admitted\")\n",
    "    plt.scatter(X[neg, 0], X[neg, 1], label=\"Not admitted\")\n",
    "\n",
    "    # Generate the decision boundary line\n",
    "    x_values = np.linspace(X[:, 0].min(), X[:, 0].max(), 100)\n",
    "    y_values = -(w[0] * x_values + b) / w[1]\n",
    "\n",
    "    # Plot the decision boundary line\n",
    "    plt.plot(x_values, y_values, label=\"Decision Boundary\")\n",
    "\n",
    "# Assuming you have X_train (exam scores) and y_train (admitted or not admitted) data available\n",
    "# And w (weights) and b (bias) for the decision boundary\n",
    "\n",
    "plot_decision_boundary(w, b, X_train, y_train)\n",
    "\n",
    "# Set the y-axis label\n",
    "plt.ylabel('Exam 2 score')\n",
    "# Set the x-axis label\n",
    "plt.xlabel('Exam 1 score')\n",
    "plt.legend(loc=\"upper right\")\n",
    "plt.show()\n"
   ]
  },
  {
   "cell_type": "code",
   "execution_count": 17,
   "id": "de098918",
   "metadata": {},
   "outputs": [],
   "source": [
    "# UNQ_C4\n",
    "# GRADED FUNCTION: predict\n",
    "\n",
    "def predict(X, w, b): \n",
    "    \"\"\"\n",
    "    Predict whether the label is 0 or 1 using learned logistic\n",
    "    regression parameters w\n",
    "    \n",
    "    Args:\n",
    "      X : (ndarray Shape (m,n)) data, m examples by n features\n",
    "      w : (ndarray Shape (n,))  values of parameters of the model      \n",
    "      b : (scalar)              value of bias parameter of the model\n",
    "\n",
    "    Returns:\n",
    "      p : (ndarray (m,)) The predictions for X using a threshold at 0.5\n",
    "    \"\"\"\n",
    "    # number of training examples\n",
    "    m, n = X.shape   \n",
    "    p = np.zeros(m)\n",
    "   \n",
    "    ### START CODE HERE ### \n",
    "    # Loop over each example\n",
    "    for i in range(m):   \n",
    "        x = X[i]\n",
    "        fwb_x = sigmoid(np.dot(w,x)+b)\n",
    "        if fwb_x > 0.5:\n",
    "            p[i] = 1\n",
    "        else:\n",
    "            p[i] = 0\n",
    "        \n",
    "    ### END CODE HERE ### \n",
    "    return p"
   ]
  },
  {
   "cell_type": "code",
   "execution_count": 18,
   "id": "e6ef49a7",
   "metadata": {},
   "outputs": [
    {
     "name": "stdout",
     "output_type": "stream",
     "text": [
      "Train Accuracy: 100.000000\n"
     ]
    }
   ],
   "source": [
    "#Compute accuracy on our training set\n",
    "p = predict(X_train, w,b)\n",
    "print('Train Accuracy: %f'%(np.mean(p == y_train) * 100))"
   ]
  },
  {
   "cell_type": "code",
   "execution_count": 34,
   "id": "3ac9ceec",
   "metadata": {},
   "outputs": [],
   "source": [
    "# REGULARIZED\n",
    "X_train =  np.array( [[0.051267,  0.69956 ],\n",
    "                     [-0.092742,  0.38494 ],\n",
    "                     [-0.21371,   0.69225 ],\n",
    "                     [-0.375,     0.50219 ],\n",
    "                     [-0.1325,   0.46564 ],\n",
    "                     [ 0.051267,  0.29956 ],\n",
    "                     [-0.092742,  0.18494 ],\n",
    "                     [-0.31371,   0.39225 ],\n",
    "                     [-0.375,     0.70219 ],\n",
    "                     [-0.21325,   0.46564 ],\n",
    "                     [-0.52040816,  0.87346939],\n",
    "                     [ 0.7244898, -0.80408163],\n",
    "                     [-0.69387755, -0.64897959],\n",
    "                     [ 0.71428571,  0.90612245],\n",
    "                     [-0.96938776, -0.7877551 ],\n",
    "                     [ 0.70408163,  0.80816327],\n",
    "                     [-0.78571429,  0.92244898],\n",
    "                     [-0.6,        -0.66530612],\n",
    "                     [ 0.57142857,  0.93061224],\n",
    "                     [-0.96938776, -0.87755102]])\n",
    "\n",
    "y_train =  np.array([1., 1., 1., 1., 1., 1., 1., 1., 1., 1., 0., 0., 0., 0., 0., 0., 0., 0., 0., 0.])\n"
   ]
  },
  {
   "cell_type": "code",
   "execution_count": 35,
   "id": "283a5dcd",
   "metadata": {},
   "outputs": [],
   "source": [
    "# UNQ_C5\n",
    "def compute_cost_reg(X, y, w, b, lambda_ = 1):\n",
    "    \"\"\"\n",
    "    Computes the cost over all examples\n",
    "    Args:\n",
    "      X : (ndarray Shape (m,n)) data, m examples by n features\n",
    "      y : (ndarray Shape (m,))  target value \n",
    "      w : (ndarray Shape (n,))  values of parameters of the model      \n",
    "      b : (scalar)              value of bias parameter of the model\n",
    "      lambda_ : (scalar, float) Controls amount of regularization\n",
    "    Returns:\n",
    "      total_cost : (scalar)     cost \n",
    "    \"\"\"\n",
    "\n",
    "    m, n = X.shape\n",
    "    \n",
    "    # Calls the compute_cost function that you implemented above\n",
    "    cost_without_reg = compute_cost(X, y, w, b) \n",
    "\n",
    "    # You need to calculate this value\n",
    "    reg_cost = 0.\n",
    "    \n",
    "    ### START CODE HERE ###\n",
    "    for j in range(n):\n",
    "        reg_cost += w[j]**2\n",
    "\n",
    "        \n",
    "    reg_cost = (lambda_/(2*m)) * reg_cost\n",
    "    \n",
    "    ### END CODE HERE ### \n",
    "    \n",
    "    # Add the regularization cost to get the total cost\n",
    "    total_cost = cost_without_reg + reg_cost\n",
    "\n",
    "    return total_cost"
   ]
  },
  {
   "cell_type": "code",
   "execution_count": 36,
   "id": "5a3c1959",
   "metadata": {},
   "outputs": [],
   "source": [
    "# UNQ_C6\n",
    "def compute_gradient_reg(X, y, w, b, lambda_ = 1): \n",
    "    \"\"\"\n",
    "    Computes the gradient for logistic regression with regularization\n",
    " \n",
    "    Args:\n",
    "      X : (ndarray Shape (m,n)) data, m examples by n features\n",
    "      y : (ndarray Shape (m,))  target value \n",
    "      w : (ndarray Shape (n,))  values of parameters of the model      \n",
    "      b : (scalar)              value of bias parameter of the model\n",
    "      lambda_ : (scalar,float)  regularization constant\n",
    "    Returns\n",
    "      dj_db : (scalar)             The gradient of the cost w.r.t. the parameter b. \n",
    "      dj_dw : (ndarray Shape (n,)) The gradient of the cost w.r.t. the parameters w. \n",
    "\n",
    "    \"\"\"\n",
    "    m, n = X.shape\n",
    "    \n",
    "    dj_db, dj_dw = compute_gradient(X, y, w, b)\n",
    "\n",
    "    ### START CODE HERE ###     \n",
    "    for j in range(n):\n",
    "        dj_dw[j] += (lambda_/m) * w[j]\n",
    "        \n",
    "    ### END CODE HERE ###         \n",
    "        \n",
    "    return dj_db, dj_dw"
   ]
  },
  {
   "cell_type": "code",
   "execution_count": 37,
   "id": "5bcd005f",
   "metadata": {},
   "outputs": [
    {
     "name": "stdout",
     "output_type": "stream",
     "text": [
      "Iteration    0: Cost     0.73   \n",
      "Iteration 1000: Cost     0.32   \n",
      "Iteration 2000: Cost     0.26   \n",
      "Iteration 3000: Cost     0.22   \n",
      "Iteration 4000: Cost     0.19   \n",
      "Iteration 5000: Cost     0.17   \n",
      "Iteration 6000: Cost     0.15   \n",
      "Iteration 7000: Cost     0.14   \n",
      "Iteration 8000: Cost     0.13   \n",
      "Iteration 9000: Cost     0.12   \n",
      "Iteration 9999: Cost     0.11   \n"
     ]
    }
   ],
   "source": [
    "from sklearn.preprocessing import PolynomialFeatures, StandardScaler\n",
    "\n",
    "# Define the map_feature function using PolynomialFeatures\n",
    "def map_feature(X1, X2, degree=6):\n",
    "    poly = PolynomialFeatures(degree)\n",
    "    return poly.fit_transform(np.column_stack((X1, X2)))\n",
    "\n",
    "# Normalize features\n",
    "scaler = StandardScaler()\n",
    "X_train_norm = scaler.fit_transform(X_train)\n",
    "\n",
    "# Initialize fitting parameters\n",
    "X_mapped = map_feature(X_train_norm[:, 0], X_train_norm[:, 1])\n",
    "\n",
    "np.random.seed(1)\n",
    "initial_w = np.random.rand(X_mapped.shape[1]) * 0.01  # Initialize weights with smaller values\n",
    "initial_b = 0.  # Initialize bias to 0\n",
    "\n",
    "# Set regularization parameter lambda_ (you can try varying this)\n",
    "lambda_ = 0.01\n",
    "\n",
    "# Some gradient descent settings\n",
    "iterations = 10000\n",
    "alpha = 0.001  # Reduce the learning rate\n",
    "\n",
    "# Assuming you have gradient_descent and other required functions defined\n",
    "\n",
    "w, b, J_history, _ = gradient_descent(X_mapped, y_train, initial_w, initial_b,\n",
    "                                      compute_cost_reg, compute_gradient_reg,\n",
    "                                      alpha, iterations, lambda_)\n"
   ]
  },
  {
   "cell_type": "code",
   "execution_count": 39,
   "id": "d8b7418a",
   "metadata": {},
   "outputs": [
    {
     "data": {
      "image/png": "[encoded data removed]",
      "text/plain": [
       "<Figure size 640x480 with 1 Axes>"
      ]
     },
     "metadata": {},
     "output_type": "display_data"
    }
   ],
   "source": [
    "def plot_decision_boundary(center, radius, X, y):\n",
    "    # Separate positive (admitted) and negative (not admitted) examples\n",
    "    pos = y == 1\n",
    "    neg = y == 0\n",
    "\n",
    "    # Plot examples\n",
    "    plt.scatter(X[pos, 0], X[pos, 1], label=\"Admitted\")\n",
    "    plt.scatter(X[neg, 0], X[neg, 1], label=\"Not admitted\")\n",
    "\n",
    "    # Generate the circular decision boundary\n",
    "    theta = np.linspace(0, 2 * np.pi, 100)\n",
    "    x_values = center[0] + radius * np.cos(theta)\n",
    "    y_values = center[1] + radius * np.sin(theta)\n",
    "\n",
    "    # Plot the decision boundary circle\n",
    "    plt.plot(x_values, y_values, label=\"Decision Boundary\")\n",
    "\n",
    "# Assuming you have X (exam scores) and y (admitted or not admitted) data available\n",
    "# And center and radius for the decision boundary\n",
    "X = np.random.randn(20, 2)\n",
    "y = (X[:, 0]**2 + X[:, 1]**2) < 1\n",
    "center = (0, 0)\n",
    "radius = 1\n",
    "\n",
    "plot_decision_boundary(center, radius, X, y)\n",
    "\n",
    "# Set the y-axis label\n",
    "plt.ylabel('Feature 2')\n",
    "# Set the x-axis label\n",
    "plt.xlabel('Feature 1')\n",
    "plt.legend(loc=\"upper right\")\n",
    "plt.show()\n"
   ]
  },
  {
   "cell_type": "code",
   "execution_count": null,
   "id": "dbd6f4c5",
   "metadata": {},
   "outputs": [],
   "source": []
  }
 ],
 "metadata": {
  "kernelspec": {
   "display_name": "ml",
   "language": "python",
   "name": "ml"
  },
  "language_info": {
   "codemirror_mode": {
    "name": "ipython",
    "version": 3
   },
   "file_extension": ".py",
   "mimetype": "text/x-python",
   "name": "python",
   "nbconvert_exporter": "python",
   "pygments_lexer": "ipython3",
   "version": "3.10.10"
  }
 },
 "nbformat": 4,
 "nbformat_minor": 5
}
